{
 "cells": [
  {
   "cell_type": "markdown",
   "id": "20d14451",
   "metadata": {},
   "source": [
    "### 1. Представьте в виде несократимой рациональной дроби: ###"
   ]
  },
  {
   "cell_type": "markdown",
   "id": "2d0fccbd",
   "metadata": {},
   "source": [
    "a)\n",
    "$$ a = 0.(216)$$\\\n",
    "$$1000a = 216 + 0.(216)$$\\\n",
    "$$999a = 216$$\\\n",
    "$$ a = \\frac{216}{999} $$\n"
   ]
  },
  {
   "cell_type": "markdown",
   "id": "fca2ff64",
   "metadata": {},
   "source": [
    "b)\n",
    "$$ b = 1.0(01) $$ \\\n",
    "$$ 10b = 1.0 + 0.(01) $$\\\n",
    "$$ c = 0.(01)$$\\\n",
    "$$ 100c = 1 + 0.(01) $$\\\n",
    "$$ 99c = 1 $$\\\n",
    "$$ c = \\frac{1}{99} $$\\\n",
    "$$ 10b = 1 + \\frac{1}{99} $$\\\n",
    "$$ b = \\frac{1}{10} + \\frac{1}{990} = \\frac{99}{990} + \\frac{1}{990} = \\frac{100}{990} = \\frac{10}{99}$$"
   ]
  },
  {
   "cell_type": "markdown",
   "id": "936537d4",
   "metadata": {},
   "source": [
    "### 2. Проверьте любым способом, являются ли данные логические формулы тавтологией: ###"
   ]
  },
  {
   "cell_type": "markdown",
   "id": "957499b9",
   "metadata": {},
   "source": [
    "a)\n",
    "$$ (A \\vee B) \\to (B \\vee \\neg A) $$"
   ]
  },
  {
   "cell_type": "code",
   "execution_count": 1,
   "id": "3c34896a",
   "metadata": {
    "collapsed": true
   },
   "outputs": [],
   "source": [
    "import pandas as pd"
   ]
  },
  {
   "cell_type": "code",
   "execution_count": 2,
   "id": "2a502b71",
   "metadata": {},
   "outputs": [
    {
     "data": {
      "text/html": [
       "<div>\n",
       "<style scoped>\n",
       "    .dataframe tbody tr th:only-of-type {\n",
       "        vertical-align: middle;\n",
       "    }\n",
       "\n",
       "    .dataframe tbody tr th {\n",
       "        vertical-align: top;\n",
       "    }\n",
       "\n",
       "    .dataframe thead th {\n",
       "        text-align: right;\n",
       "    }\n",
       "</style>\n",
       "<table border=\"1\" class=\"dataframe\">\n",
       "  <thead>\n",
       "    <tr style=\"text-align: right;\">\n",
       "      <th></th>\n",
       "      <th>A</th>\n",
       "      <th>B</th>\n",
       "      <th>(𝐴∨𝐵)</th>\n",
       "      <th>𝐴̅</th>\n",
       "      <th>(B ∨ A̅)</th>\n",
       "      <th>F</th>\n",
       "    </tr>\n",
       "  </thead>\n",
       "  <tbody>\n",
       "    <tr>\n",
       "      <th>0</th>\n",
       "      <td>0</td>\n",
       "      <td>0</td>\n",
       "      <td>0</td>\n",
       "      <td>1</td>\n",
       "      <td>1</td>\n",
       "      <td>1</td>\n",
       "    </tr>\n",
       "    <tr>\n",
       "      <th>1</th>\n",
       "      <td>0</td>\n",
       "      <td>1</td>\n",
       "      <td>1</td>\n",
       "      <td>1</td>\n",
       "      <td>1</td>\n",
       "      <td>1</td>\n",
       "    </tr>\n",
       "    <tr>\n",
       "      <th>2</th>\n",
       "      <td>1</td>\n",
       "      <td>0</td>\n",
       "      <td>1</td>\n",
       "      <td>0</td>\n",
       "      <td>0</td>\n",
       "      <td>0</td>\n",
       "    </tr>\n",
       "    <tr>\n",
       "      <th>3</th>\n",
       "      <td>1</td>\n",
       "      <td>1</td>\n",
       "      <td>1</td>\n",
       "      <td>0</td>\n",
       "      <td>1</td>\n",
       "      <td>1</td>\n",
       "    </tr>\n",
       "  </tbody>\n",
       "</table>\n",
       "</div>"
      ],
      "text/plain": [
       "   A  B  (𝐴∨𝐵)  𝐴̅  (B ∨ A̅)  F\n",
       "0  0  0      0   1         1  1\n",
       "1  0  1      1   1         1  1\n",
       "2  1  0      1   0         0  0\n",
       "3  1  1      1   0         1  1"
      ]
     },
     "execution_count": 2,
     "metadata": {},
     "output_type": "execute_result"
    }
   ],
   "source": [
    "col = ['A', 'B', '(𝐴∨𝐵)', '𝐴̅', '(B ∨ A̅)', 'F']\n",
    "a = [\n",
    "    [0, 0, 0, 1, 1, 1],\n",
    "    [0, 1, 1, 1, 1, 1],\n",
    "    [1, 0, 1, 0, 0, 0],\n",
    "    [1, 1, 1, 0, 1, 1],\n",
    "]\n",
    "df = pd.DataFrame(a, columns=col)\n",
    "df"
   ]
  },
  {
   "cell_type": "markdown",
   "id": "34692a54",
   "metadata": {},
   "source": [
    "Выражение $$ (A \\vee B) \\to (B \\vee \\neg A) $$ не является тавтологией, так как при A = 1 , B = 0, принимает значение 0"
   ]
  },
  {
   "cell_type": "markdown",
   "id": "68bc3724",
   "metadata": {},
   "source": [
    "б) $$ A \\to (A \\vee (\\neg B \\wedge A)) $$"
   ]
  },
  {
   "cell_type": "code",
   "execution_count": 3,
   "id": "4888e436",
   "metadata": {
    "scrolled": true
   },
   "outputs": [
    {
     "data": {
      "text/html": [
       "<div>\n",
       "<style scoped>\n",
       "    .dataframe tbody tr th:only-of-type {\n",
       "        vertical-align: middle;\n",
       "    }\n",
       "\n",
       "    .dataframe tbody tr th {\n",
       "        vertical-align: top;\n",
       "    }\n",
       "\n",
       "    .dataframe thead th {\n",
       "        text-align: right;\n",
       "    }\n",
       "</style>\n",
       "<table border=\"1\" class=\"dataframe\">\n",
       "  <thead>\n",
       "    <tr style=\"text-align: right;\">\n",
       "      <th></th>\n",
       "      <th>A</th>\n",
       "      <th>B</th>\n",
       "      <th>$$\\neg B$$</th>\n",
       "      <th>$$(\\neg B \\wedge A)$$</th>\n",
       "      <th>$$(𝐴∨(¬𝐵∧𝐴))$$</th>\n",
       "      <th>F</th>\n",
       "    </tr>\n",
       "  </thead>\n",
       "  <tbody>\n",
       "    <tr>\n",
       "      <th>0</th>\n",
       "      <td>0</td>\n",
       "      <td>0</td>\n",
       "      <td>1</td>\n",
       "      <td>0</td>\n",
       "      <td>0</td>\n",
       "      <td>1</td>\n",
       "    </tr>\n",
       "    <tr>\n",
       "      <th>1</th>\n",
       "      <td>0</td>\n",
       "      <td>1</td>\n",
       "      <td>0</td>\n",
       "      <td>0</td>\n",
       "      <td>0</td>\n",
       "      <td>1</td>\n",
       "    </tr>\n",
       "    <tr>\n",
       "      <th>2</th>\n",
       "      <td>1</td>\n",
       "      <td>0</td>\n",
       "      <td>1</td>\n",
       "      <td>1</td>\n",
       "      <td>1</td>\n",
       "      <td>1</td>\n",
       "    </tr>\n",
       "    <tr>\n",
       "      <th>3</th>\n",
       "      <td>1</td>\n",
       "      <td>1</td>\n",
       "      <td>0</td>\n",
       "      <td>0</td>\n",
       "      <td>1</td>\n",
       "      <td>1</td>\n",
       "    </tr>\n",
       "  </tbody>\n",
       "</table>\n",
       "</div>"
      ],
      "text/plain": [
       "   A  B  $$\\neg B$$  $$(\\neg B \\wedge A)$$  $$(𝐴∨(¬𝐵∧𝐴))$$  F\n",
       "0  0  0           1                      0               0  1\n",
       "1  0  1           0                      0               0  1\n",
       "2  1  0           1                      1               1  1\n",
       "3  1  1           0                      0               1  1"
      ]
     },
     "execution_count": 3,
     "metadata": {},
     "output_type": "execute_result"
    }
   ],
   "source": [
    "col = ['A', 'B', '$$\\neg B$$', '$$(\\neg B \\wedge A)$$', '$$(𝐴∨(¬𝐵∧𝐴))$$', 'F']\n",
    "a = [\n",
    "    [0, 0, 1, 0, 0, 1],\n",
    "    [0, 1, 0, 0, 0, 1],\n",
    "    [1, 0, 1, 1, 1, 1],\n",
    "    [1, 1, 0, 0, 1, 1],\n",
    "]\n",
    "df = pd.DataFrame(a, columns=col)\n",
    "df"
   ]
  },
  {
   "cell_type": "markdown",
   "id": "12f0bd75",
   "metadata": {},
   "source": [
    "Выражение $$ A \\to (A \\vee (\\neg B \\wedge A)) $$ является тавтологией, так как при любых оценках переменных принимает истинное значение."
   ]
  },
  {
   "cell_type": "markdown",
   "id": "65fe406c",
   "metadata": {},
   "source": [
    "### 3. Сформулируйте словесно высказывания: ###\n",
    "где А: сегодня светит солнце; В: сегодня сыро; С: я поеду на дачу."
   ]
  },
  {
   "cell_type": "markdown",
   "id": "9bd753fd",
   "metadata": {},
   "source": [
    "a) $$ (\\neg A \\vee B) \\to \\neg C$$"
   ]
  },
  {
   "cell_type": "markdown",
   "id": "4c873da0",
   "metadata": {},
   "source": [
    "Если сегодня НЕ светит солнце или сегодня сыро, то я НЕ поеду на дачу"
   ]
  },
  {
   "cell_type": "markdown",
   "id": "5f2ae15d",
   "metadata": {},
   "source": [
    "б) $$ C \\to (A \\vee \\neg B)$$"
   ]
  },
  {
   "cell_type": "markdown",
   "id": "0f40d6ce",
   "metadata": {},
   "source": [
    "Я поеду на дачу, если сегодня светит солнце или сегодня НЕ сыро."
   ]
  }
 ],
 "metadata": {
  "kernelspec": {
   "display_name": "Python 3",
   "language": "python",
   "name": "python3"
  },
  "language_info": {
   "codemirror_mode": {
    "name": "ipython",
    "version": 3
   },
   "file_extension": ".py",
   "mimetype": "text/x-python",
   "name": "python",
   "nbconvert_exporter": "python",
   "pygments_lexer": "ipython3",
   "version": "3.8.8"
  }
 },
 "nbformat": 4,
 "nbformat_minor": 5
}
